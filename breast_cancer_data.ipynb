{
 "cells": [
  {
   "cell_type": "code",
   "execution_count": null,
   "id": "1152c6a3",
   "metadata": {},
   "outputs": [],
   "source": [
    "from sklearn.datasets import load_breast_cancer\n",
    "\n",
    "import pandas as pd\n",
    "\n",
    "breast_cancer_data = load_breast_cancer()\n",
    "\n",
    "df_data = pd.DataFrame(breast_cancer_data.data)\n",
    "\n",
    "df_labels = pd.DataFrame(breast_cancer_data.target)\n",
    "\n",
    "\n",
    "print(df_data[0:10])\n",
    "print(df_labels[0:10])\n",
    "\n",
    "\n",
    "print(breast_cancer_data.target_names)\n",
    "\n",
    "X_train = df_data[:456]\n",
    "y_train = df_labels[:456]\n",
    "X_test = df_data[456:]\n",
    "y_test = df_labels[456:]\n",
    "\n",
    "print(\"X_train.shape :\", X_train.shape)\n",
    "\n",
    "print(\"y_train.shape :\", y_train.shape)\n",
    "\n",
    "print(\"X_test.shape:\", X_test.shape)\n",
    "\n",
    "print(\"y_test.shape:\", y_test.shape)\n",
    "\n",
    "from sklearn.neighbors import KNeighborsClassifier\n",
    "\n",
    "mymodel = KNeighborsClassifier(n_neighbors=3)\n",
    "\n",
    "mymodel.fit(X_train, y_train)\n",
    "\n",
    "prediction = mymodel.predict(X_test)\n",
    "\n",
    "mymodel.score(X_test, y_test)"
   ]
  }
 ],
 "metadata": {
  "kernelspec": {
   "display_name": "Python 3 (ipykernel)",
   "language": "python",
   "name": "python3"
  },
  "language_info": {
   "codemirror_mode": {
    "name": "ipython",
    "version": 3
   },
   "file_extension": ".py",
   "mimetype": "text/x-python",
   "name": "python",
   "nbconvert_exporter": "python",
   "pygments_lexer": "ipython3",
   "version": "3.9.13"
  }
 },
 "nbformat": 4,
 "nbformat_minor": 5
}
