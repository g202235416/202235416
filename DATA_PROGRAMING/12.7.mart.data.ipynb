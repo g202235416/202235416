{
 "cells": [
  {
   "cell_type": "code",
   "execution_count": 22,
   "id": "1041fed7",
   "metadata": {},
   "outputs": [
    {
     "data": {
      "text/html": [
       "<div>\n",
       "<style scoped>\n",
       "    .dataframe tbody tr th:only-of-type {\n",
       "        vertical-align: middle;\n",
       "    }\n",
       "\n",
       "    .dataframe tbody tr th {\n",
       "        vertical-align: top;\n",
       "    }\n",
       "\n",
       "    .dataframe thead th {\n",
       "        text-align: right;\n",
       "    }\n",
       "</style>\n",
       "<table border=\"1\" class=\"dataframe\">\n",
       "  <thead>\n",
       "    <tr style=\"text-align: right;\">\n",
       "      <th></th>\n",
       "      <th>이름</th>\n",
       "      <th>당도</th>\n",
       "      <th>아삭함</th>\n",
       "      <th>종류</th>\n",
       "    </tr>\n",
       "  </thead>\n",
       "  <tbody>\n",
       "    <tr>\n",
       "      <th>0</th>\n",
       "      <td>오렌지</td>\n",
       "      <td>7</td>\n",
       "      <td>3</td>\n",
       "      <td>과일</td>\n",
       "    </tr>\n",
       "    <tr>\n",
       "      <th>1</th>\n",
       "      <td>포도</td>\n",
       "      <td>8</td>\n",
       "      <td>5</td>\n",
       "      <td>과일</td>\n",
       "    </tr>\n",
       "    <tr>\n",
       "      <th>2</th>\n",
       "      <td>견과류</td>\n",
       "      <td>3</td>\n",
       "      <td>6</td>\n",
       "      <td>단백질</td>\n",
       "    </tr>\n",
       "    <tr>\n",
       "      <th>3</th>\n",
       "      <td>새우</td>\n",
       "      <td>2</td>\n",
       "      <td>3</td>\n",
       "      <td>단백질</td>\n",
       "    </tr>\n",
       "    <tr>\n",
       "      <th>4</th>\n",
       "      <td>생선</td>\n",
       "      <td>3</td>\n",
       "      <td>1</td>\n",
       "      <td>단백질</td>\n",
       "    </tr>\n",
       "    <tr>\n",
       "      <th>5</th>\n",
       "      <td>콩</td>\n",
       "      <td>3</td>\n",
       "      <td>7</td>\n",
       "      <td>채소</td>\n",
       "    </tr>\n",
       "    <tr>\n",
       "      <th>6</th>\n",
       "      <td>베이컨</td>\n",
       "      <td>1</td>\n",
       "      <td>4</td>\n",
       "      <td>단백질</td>\n",
       "    </tr>\n",
       "    <tr>\n",
       "      <th>7</th>\n",
       "      <td>바나나</td>\n",
       "      <td>10</td>\n",
       "      <td>1</td>\n",
       "      <td>과일</td>\n",
       "    </tr>\n",
       "    <tr>\n",
       "      <th>8</th>\n",
       "      <td>배</td>\n",
       "      <td>10</td>\n",
       "      <td>7</td>\n",
       "      <td>과일</td>\n",
       "    </tr>\n",
       "    <tr>\n",
       "      <th>9</th>\n",
       "      <td>오이</td>\n",
       "      <td>2</td>\n",
       "      <td>8</td>\n",
       "      <td>채소</td>\n",
       "    </tr>\n",
       "    <tr>\n",
       "      <th>10</th>\n",
       "      <td>치즈</td>\n",
       "      <td>1</td>\n",
       "      <td>1</td>\n",
       "      <td>단백질</td>\n",
       "    </tr>\n",
       "    <tr>\n",
       "      <th>11</th>\n",
       "      <td>당근</td>\n",
       "      <td>5</td>\n",
       "      <td>10</td>\n",
       "      <td>채소</td>\n",
       "    </tr>\n",
       "    <tr>\n",
       "      <th>12</th>\n",
       "      <td>사과</td>\n",
       "      <td>10</td>\n",
       "      <td>9</td>\n",
       "      <td>과일</td>\n",
       "    </tr>\n",
       "    <tr>\n",
       "      <th>13</th>\n",
       "      <td>샐러리</td>\n",
       "      <td>3</td>\n",
       "      <td>10</td>\n",
       "      <td>채소</td>\n",
       "    </tr>\n",
       "    <tr>\n",
       "      <th>14</th>\n",
       "      <td>양상추</td>\n",
       "      <td>1</td>\n",
       "      <td>9</td>\n",
       "      <td>채소</td>\n",
       "    </tr>\n",
       "  </tbody>\n",
       "</table>\n",
       "</div>"
      ],
      "text/plain": [
       "     이름  당도  아삭함   종류\n",
       "0   오렌지   7    3   과일\n",
       "1    포도   8    5   과일\n",
       "2   견과류   3    6  단백질\n",
       "3    새우   2    3  단백질\n",
       "4    생선   3    1  단백질\n",
       "5     콩   3    7   채소\n",
       "6   베이컨   1    4  단백질\n",
       "7   바나나  10    1   과일\n",
       "8     배  10    7   과일\n",
       "9    오이   2    8   채소\n",
       "10   치즈   1    1  단백질\n",
       "11   당근   5   10   채소\n",
       "12   사과  10    9   과일\n",
       "13  샐러리   3   10   채소\n",
       "14  양상추   1    9   채소"
      ]
     },
     "execution_count": 22,
     "metadata": {},
     "output_type": "execute_result"
    }
   ],
   "source": [
    "import pandas as pd\n",
    "import warnings\n",
    "warnings.filterwarnings(\"ignore\")\n",
    "\n",
    "# 데이터 생성\n",
    "data = {\n",
    "    '이름': ['오렌지', '포도', '견과류', '새우', '생선', '콩', '베이컨', '바나나', '배', '오이', '치즈', '당근', '사과', '샐러리', '양상추'],\n",
    "    '당도': [7, 8, 3, 2, 3, 3, 1, 10, 10, 2, 1, 5, 10, 3, 1],\n",
    "    '아삭함': [3, 5, 6, 3, 1, 7, 4, 1, 7, 8, 1, 10, 9, 10, 9],\n",
    "    '종류': ['과일', '과일', '단백질', '단백질', '단백질', '채소', '단백질', '과일', '과일', '채소', '단백질', '채소', '과일', '채소', '채소']\n",
    "}\n",
    "\n",
    "# 데이터프레임 생성\n",
    "df = pd.DataFrame(data)\n",
    "df"
   ]
  },
  {
   "cell_type": "code",
   "execution_count": 23,
   "id": "d21995af",
   "metadata": {},
   "outputs": [
    {
     "name": "stdout",
     "output_type": "stream",
     "text": [
      "cluster[0 0 1 1 1 1 1 0 0 1 1 1 0 1 1]\n",
      "중심점: [[9.  5. ]\n",
      " [2.4 5.9]]\n",
      "응집도: 171.3\n"
     ]
    }
   ],
   "source": [
    "from sklearn.cluster import KMeans\n",
    "import numpy as np\n",
    "X = df.drop([\"종류\",\"이름\"],axis=1)\n",
    "kmeans = KMeans(n_clusters=2)\n",
    "kmeans.fit(X)\n",
    "\n",
    "print(f'cluster{kmeans.labels_}')\n",
    "print(f'중심점: {kmeans.cluster_centers_}')\n",
    "#print(kmeans.n_iter_)\n",
    "print(f'응집도: {kmeans.inertia_}')"
   ]
  },
  {
   "cell_type": "code",
   "execution_count": 24,
   "id": "083ec95c",
   "metadata": {
    "scrolled": true
   },
   "outputs": [
    {
     "data": {
      "text/plain": [
       "[<matplotlib.lines.Line2D at 0x20cf0b9b430>]"
      ]
     },
     "execution_count": 24,
     "metadata": {},
     "output_type": "execute_result"
    },
    {
     "data": {
      "image/png": "[encoded data removed]",
      "text/plain": [
       "<Figure size 640x480 with 1 Axes>"
      ]
     },
     "metadata": {},
     "output_type": "display_data"
    }
   ],
   "source": [
    "import matplotlib.pyplot as plt\n",
    "temp=[]\n",
    "for i in range(2,8):\n",
    "  kmeans=KMeans(n_clusters=i)\n",
    "  kmeans.fit(X)\n",
    "  temp.append(kmeans.inertia_)\n",
    "plt.plot(range(2,8),temp)"
   ]
  },
  {
   "cell_type": "code",
   "execution_count": 30,
   "id": "aaee5e36",
   "metadata": {},
   "outputs": [
    {
     "name": "stdout",
     "output_type": "stream",
     "text": [
      "Accuracy: 100.00%\n"
     ]
    }
   ],
   "source": [
    "from sklearn.model_selection import train_test_split\n",
    "from sklearn.neighbors import KNeighborsClassifier\n",
    "from sklearn.metrics import accuracy_score\n",
    "from sklearn.preprocessing import LabelEncoder\n",
    "le = LabelEncoder()\n",
    "df['종류'] = le.fit_transform(df['종류'])\n",
    "\n",
    "X = df[['당도', '아삭함']]\n",
    "y = df['종류']\n",
    "\n",
    "X_train, X_test, y_train, y_test = train_test_split(X, y, test_size=0.2, random_state=42)\n",
    "\n",
    "knn = KNeighborsClassifier(n_neighbors=3)\n",
    "knn.fit(X_train, y_train)\n",
    "y_pred = knn.predict(X_test)\n",
    "\n",
    "accuracy = accuracy_score(y_test, y_pred)\n",
    "print(f'Accuracy: {accuracy * 100:.2f}%')\n"
   ]
  },
  {
   "cell_type": "code",
   "execution_count": 31,
   "id": "2f0c89ad",
   "metadata": {},
   "outputs": [
    {
     "data": {
      "image/png": "[encoded data removed]",
      "text/plain": [
       "<Figure size 640x480 with 1 Axes>"
      ]
     },
     "metadata": {},
     "output_type": "display_data"
    }
   ],
   "source": [
    "x = df['당도']\n",
    "y = df['아삭함']\n",
    "c_c = df['종류']\n",
    "plt.style.use('default')\n",
    "plt.scatter(x, y, c= c_c)\n",
    "plt.show()"
   ]
  },
  {
   "cell_type": "code",
   "execution_count": 32,
   "id": "a600df58",
   "metadata": {},
   "outputs": [
    {
     "data": {
      "image/png": "[encoded data removed]",
      "text/plain": [
       "<Figure size 640x480 with 1 Axes>"
      ]
     },
     "metadata": {},
     "output_type": "display_data"
    }
   ],
   "source": [
    "n_neighbors_values = list(range(1, 11))\n",
    "accuracy_values = []\n",
    "\n",
    "for n_neighbors in n_neighbors_values:\n",
    "    knn = KNeighborsClassifier(n_neighbors=n_neighbors)\n",
    "    knn.fit(X_train, y_train)\n",
    "    y_pred = knn.predict(X_test)  \n",
    "    accuracy = accuracy_score(y_test, y_pred)\n",
    "    accuracy_values.append(accuracy)\n",
    "\n",
    "plt.plot(n_neighbors_values, accuracy_values, marker='o')\n",
    "plt.title('Accuracy vs. n_neighbors')\n",
    "plt.xlabel('n_neighbors')\n",
    "plt.ylabel('Accuracy')\n",
    "plt.show()"
   ]
  }
 ],
 "metadata": {
  "kernelspec": {
   "display_name": "Python 3 (ipykernel)",
   "language": "python",
   "name": "python3"
  },
  "language_info": {
   "codemirror_mode": {
    "name": "ipython",
    "version": 3
   },
   "file_extension": ".py",
   "mimetype": "text/x-python",
   "name": "python",
   "nbconvert_exporter": "python",
   "pygments_lexer": "ipython3",
   "version": "3.9.13"
  }
 },
 "nbformat": 4,
 "nbformat_minor": 5
}
