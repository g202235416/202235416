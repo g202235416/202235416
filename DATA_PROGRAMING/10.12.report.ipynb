{
 "cells": [
  {
   "cell_type": "code",
   "execution_count": 28,
   "id": "22b2e7d3",
   "metadata": {},
   "outputs": [],
   "source": [
    "import pandas as pd\n",
    "import matplotlib.pyplot as plt\n",
    "import numpy as np\n",
    "import seaborn as sns\n",
    "\n",
    "df = pd.read_excel(\"C:/Users/a/Downloads/05_data1.xlsx\")"
   ]
  },
  {
   "cell_type": "code",
   "execution_count": 29,
   "id": "f89f73d6",
   "metadata": {},
   "outputs": [],
   "source": [
    "df['blood_sugar'] = df['blood_sugar'].astype(int)\n",
    "df['height'] = df['height'].astype(float)\n",
    "df['weight'] = df['weight'].astype(float)\n",
    "df['BMI'] = df['weight']/(df['height']*df['height'])"
   ]
  },
  {
   "cell_type": "code",
   "execution_count": 30,
   "id": "8ccd036d",
   "metadata": {},
   "outputs": [
    {
     "data": {
      "text/html": [
       "<div>\n",
       "<style scoped>\n",
       "    .dataframe tbody tr th:only-of-type {\n",
       "        vertical-align: middle;\n",
       "    }\n",
       "\n",
       "    .dataframe tbody tr th {\n",
       "        vertical-align: top;\n",
       "    }\n",
       "\n",
       "    .dataframe thead th {\n",
       "        text-align: right;\n",
       "    }\n",
       "</style>\n",
       "<table border=\"1\" class=\"dataframe\">\n",
       "  <thead>\n",
       "    <tr style=\"text-align: right;\">\n",
       "      <th></th>\n",
       "      <th>BMI</th>\n",
       "      <th>blood_sugar</th>\n",
       "    </tr>\n",
       "  </thead>\n",
       "  <tbody>\n",
       "    <tr>\n",
       "      <th>0</th>\n",
       "      <td>22</td>\n",
       "      <td>90</td>\n",
       "    </tr>\n",
       "    <tr>\n",
       "      <th>1</th>\n",
       "      <td>20</td>\n",
       "      <td>110</td>\n",
       "    </tr>\n",
       "    <tr>\n",
       "      <th>2</th>\n",
       "      <td>24</td>\n",
       "      <td>86</td>\n",
       "    </tr>\n",
       "    <tr>\n",
       "      <th>3</th>\n",
       "      <td>29</td>\n",
       "      <td>250</td>\n",
       "    </tr>\n",
       "    <tr>\n",
       "      <th>4</th>\n",
       "      <td>22</td>\n",
       "      <td>104</td>\n",
       "    </tr>\n",
       "  </tbody>\n",
       "</table>\n",
       "</div>"
      ],
      "text/plain": [
       "   BMI  blood_sugar\n",
       "0   22           90\n",
       "1   20          110\n",
       "2   24           86\n",
       "3   29          250\n",
       "4   22          104"
      ]
     },
     "execution_count": 30,
     "metadata": {},
     "output_type": "execute_result"
    }
   ],
   "source": [
    "df['BMI'] = df['BMI']*10000\n",
    "df['BMI'] = df['BMI'].astype(int)\n",
    "df[['BMI','blood_sugar']].head()"
   ]
  },
  {
   "cell_type": "code",
   "execution_count": 31,
   "id": "746aed7f",
   "metadata": {},
   "outputs": [],
   "source": [
    "data = df.loc[:,['gender','BMI','blood_sugar']]\n",
    "data.loc[data['gender']==1,['gender']]='M'\n",
    "data.loc[data['gender']==2,['gender']]='F'\n",
    "data.loc[data['blood_sugar'] < 120,'Blood_sugar']='120_under'\n",
    "data.loc[data['blood_sugar'] >= 120,'Blood_sugar']='120_over'\n",
    "data.loc[data['BMI'] <= 25, 'Bmi'] ='25_over'\n",
    "data.loc[data['BMI'] > 25, 'Bmi'] = '25_under'"
   ]
  },
  {
   "cell_type": "code",
   "execution_count": 32,
   "id": "f1e518f0",
   "metadata": {},
   "outputs": [
    {
     "data": {
      "text/html": [
       "<div>\n",
       "<style scoped>\n",
       "    .dataframe tbody tr th:only-of-type {\n",
       "        vertical-align: middle;\n",
       "    }\n",
       "\n",
       "    .dataframe tbody tr th {\n",
       "        vertical-align: top;\n",
       "    }\n",
       "\n",
       "    .dataframe thead th {\n",
       "        text-align: right;\n",
       "    }\n",
       "</style>\n",
       "<table border=\"1\" class=\"dataframe\">\n",
       "  <thead>\n",
       "    <tr style=\"text-align: right;\">\n",
       "      <th></th>\n",
       "      <th>gender</th>\n",
       "      <th>BMI</th>\n",
       "      <th>blood_sugar</th>\n",
       "      <th>Blood_sugar</th>\n",
       "      <th>Bmi</th>\n",
       "    </tr>\n",
       "  </thead>\n",
       "  <tbody>\n",
       "    <tr>\n",
       "      <th>0</th>\n",
       "      <td>M</td>\n",
       "      <td>22</td>\n",
       "      <td>90</td>\n",
       "      <td>120_under</td>\n",
       "      <td>25_over</td>\n",
       "    </tr>\n",
       "    <tr>\n",
       "      <th>1</th>\n",
       "      <td>F</td>\n",
       "      <td>20</td>\n",
       "      <td>110</td>\n",
       "      <td>120_under</td>\n",
       "      <td>25_over</td>\n",
       "    </tr>\n",
       "    <tr>\n",
       "      <th>2</th>\n",
       "      <td>M</td>\n",
       "      <td>24</td>\n",
       "      <td>86</td>\n",
       "      <td>120_under</td>\n",
       "      <td>25_over</td>\n",
       "    </tr>\n",
       "    <tr>\n",
       "      <th>3</th>\n",
       "      <td>M</td>\n",
       "      <td>29</td>\n",
       "      <td>250</td>\n",
       "      <td>120_over</td>\n",
       "      <td>25_under</td>\n",
       "    </tr>\n",
       "    <tr>\n",
       "      <th>4</th>\n",
       "      <td>F</td>\n",
       "      <td>22</td>\n",
       "      <td>104</td>\n",
       "      <td>120_under</td>\n",
       "      <td>25_over</td>\n",
       "    </tr>\n",
       "  </tbody>\n",
       "</table>\n",
       "</div>"
      ],
      "text/plain": [
       "  gender  BMI  blood_sugar Blood_sugar       Bmi\n",
       "0      M   22           90   120_under   25_over\n",
       "1      F   20          110   120_under   25_over\n",
       "2      M   24           86   120_under   25_over\n",
       "3      M   29          250    120_over  25_under\n",
       "4      F   22          104   120_under   25_over"
      ]
     },
     "execution_count": 32,
     "metadata": {},
     "output_type": "execute_result"
    }
   ],
   "source": [
    "data.head()"
   ]
  },
  {
   "cell_type": "code",
   "execution_count": 33,
   "id": "7d635732",
   "metadata": {},
   "outputs": [],
   "source": [
    "blood_sugar = data.groupby(['gender','Blood_sugar'])['Blood_sugar'].count()\n",
    "BMI = data.groupby(['gender','Bmi'])['Bmi'].count()\n",
    "blood_sugar = blood_sugar.to_frame(name='count')\n",
    "BMI = BMI.to_frame(name='count')\n",
    "blood_sugar = blood_sugar.reset_index()\n",
    "BMI = BMI.reset_index()"
   ]
  },
  {
   "cell_type": "code",
   "execution_count": 34,
   "id": "bbdd2927",
   "metadata": {},
   "outputs": [
    {
     "data": {
      "text/html": [
       "<div>\n",
       "<style scoped>\n",
       "    .dataframe tbody tr th:only-of-type {\n",
       "        vertical-align: middle;\n",
       "    }\n",
       "\n",
       "    .dataframe tbody tr th {\n",
       "        vertical-align: top;\n",
       "    }\n",
       "\n",
       "    .dataframe thead th {\n",
       "        text-align: right;\n",
       "    }\n",
       "</style>\n",
       "<table border=\"1\" class=\"dataframe\">\n",
       "  <thead>\n",
       "    <tr style=\"text-align: right;\">\n",
       "      <th></th>\n",
       "      <th>gender</th>\n",
       "      <th>Blood_sugar</th>\n",
       "      <th>count</th>\n",
       "    </tr>\n",
       "  </thead>\n",
       "  <tbody>\n",
       "    <tr>\n",
       "      <th>0</th>\n",
       "      <td>F</td>\n",
       "      <td>120_over</td>\n",
       "      <td>145</td>\n",
       "    </tr>\n",
       "    <tr>\n",
       "      <th>1</th>\n",
       "      <td>F</td>\n",
       "      <td>120_under</td>\n",
       "      <td>1354</td>\n",
       "    </tr>\n",
       "    <tr>\n",
       "      <th>2</th>\n",
       "      <td>M</td>\n",
       "      <td>120_over</td>\n",
       "      <td>276</td>\n",
       "    </tr>\n",
       "    <tr>\n",
       "      <th>3</th>\n",
       "      <td>M</td>\n",
       "      <td>120_under</td>\n",
       "      <td>1225</td>\n",
       "    </tr>\n",
       "  </tbody>\n",
       "</table>\n",
       "</div>"
      ],
      "text/plain": [
       "  gender Blood_sugar  count\n",
       "0      F    120_over    145\n",
       "1      F   120_under   1354\n",
       "2      M    120_over    276\n",
       "3      M   120_under   1225"
      ]
     },
     "execution_count": 34,
     "metadata": {},
     "output_type": "execute_result"
    }
   ],
   "source": [
    "blood_sugar"
   ]
  },
  {
   "cell_type": "code",
   "execution_count": 35,
   "id": "4bd1756b",
   "metadata": {},
   "outputs": [
    {
     "data": {
      "text/html": [
       "<div>\n",
       "<style scoped>\n",
       "    .dataframe tbody tr th:only-of-type {\n",
       "        vertical-align: middle;\n",
       "    }\n",
       "\n",
       "    .dataframe tbody tr th {\n",
       "        vertical-align: top;\n",
       "    }\n",
       "\n",
       "    .dataframe thead th {\n",
       "        text-align: right;\n",
       "    }\n",
       "</style>\n",
       "<table border=\"1\" class=\"dataframe\">\n",
       "  <thead>\n",
       "    <tr style=\"text-align: right;\">\n",
       "      <th></th>\n",
       "      <th>gender</th>\n",
       "      <th>Bmi</th>\n",
       "      <th>count</th>\n",
       "    </tr>\n",
       "  </thead>\n",
       "  <tbody>\n",
       "    <tr>\n",
       "      <th>0</th>\n",
       "      <td>F</td>\n",
       "      <td>25_over</td>\n",
       "      <td>1151</td>\n",
       "    </tr>\n",
       "    <tr>\n",
       "      <th>1</th>\n",
       "      <td>F</td>\n",
       "      <td>25_under</td>\n",
       "      <td>348</td>\n",
       "    </tr>\n",
       "    <tr>\n",
       "      <th>2</th>\n",
       "      <td>M</td>\n",
       "      <td>25_over</td>\n",
       "      <td>1080</td>\n",
       "    </tr>\n",
       "    <tr>\n",
       "      <th>3</th>\n",
       "      <td>M</td>\n",
       "      <td>25_under</td>\n",
       "      <td>421</td>\n",
       "    </tr>\n",
       "  </tbody>\n",
       "</table>\n",
       "</div>"
      ],
      "text/plain": [
       "  gender       Bmi  count\n",
       "0      F   25_over   1151\n",
       "1      F  25_under    348\n",
       "2      M   25_over   1080\n",
       "3      M  25_under    421"
      ]
     },
     "execution_count": 35,
     "metadata": {},
     "output_type": "execute_result"
    }
   ],
   "source": [
    "BMI"
   ]
  },
  {
   "cell_type": "code",
   "execution_count": 36,
   "id": "d7c72914",
   "metadata": {},
   "outputs": [
    {
     "data": {
      "image/png": "[encoded data removed]",
      "text/plain": [
       "<Figure size 1200x1200 with 2 Axes>"
      ]
     },
     "metadata": {},
     "output_type": "display_data"
    }
   ],
   "source": [
    "fig = plt.figure(figsize=(12,12))\n",
    "\n",
    "area1 = fig.add_subplot(2,1,1)\n",
    "area2 = fig.add_subplot(2,1,2)\n",
    "ax1 = sns.barplot(x='gender',y='count',hue='Blood_sugar',data = blood_sugar,ax=area1)\n",
    "ax2 = sns.barplot(x='gender',y='count',hue='Bmi',data = BMI,ax=area2)\n",
    "\n",
    "area1.set_title('Blood sugar')\n",
    "area2.set_title('BMI')\n",
    "plt.show()"
   ]
  }
 ],
 "metadata": {
  "kernelspec": {
   "display_name": "Python 3 (ipykernel)",
   "language": "python",
   "name": "python3"
  },
  "language_info": {
   "codemirror_mode": {
    "name": "ipython",
    "version": 3
   },
   "file_extension": ".py",
   "mimetype": "text/x-python",
   "name": "python",
   "nbconvert_exporter": "python",
   "pygments_lexer": "ipython3",
   "version": "3.9.13"
  }
 },
 "nbformat": 4,
 "nbformat_minor": 5
}
